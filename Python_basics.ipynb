{
  "nbformat": 4,
  "nbformat_minor": 0,
  "metadata": {
    "colab": {
      "provenance": [],
      "authorship_tag": "ABX9TyMqF9T9ubD6m+hwkxUVfN/S"
    },
    "kernelspec": {
      "name": "python3",
      "display_name": "Python 3"
    },
    "language_info": {
      "name": "python"
    }
  },
  "cells": [
    {
      "cell_type": "markdown",
      "source": [
        "# Write a Python program to check if a number is positive, negative, or zero\n"
      ],
      "metadata": {
        "id": "68sosFlhHfHk"
      }
    },
    {
      "cell_type": "code",
      "execution_count": null,
      "metadata": {
        "colab": {
          "base_uri": "https://localhost:8080/"
        },
        "id": "OX0Uy6uxHQtB",
        "outputId": "8aa55dc4-7bd2-4042-f8ed-92edb919c7ae"
      },
      "outputs": [
        {
          "output_type": "stream",
          "name": "stdout",
          "text": [
            "Enter a number: 34\n",
            "positive number\n"
          ]
        }
      ],
      "source": [
        "number = float(input(\"Enter a number: \"))\n",
        "if number > 0 :\n",
        "    print(\"positive number\")\n",
        "elif number < 0 :\n",
        "    print(\"negative number\")\n",
        "else:\n",
        "    print(\"number is zero\")"
      ]
    },
    {
      "cell_type": "markdown",
      "source": [],
      "metadata": {
        "id": "9002XvgiOfbF"
      }
    },
    {
      "cell_type": "code",
      "source": [],
      "metadata": {
        "id": "sQraLjweOZ1P"
      },
      "execution_count": null,
      "outputs": []
    },
    {
      "cell_type": "markdown",
      "source": [
        "# **Write a Python program to find the largest of three numbers.**"
      ],
      "metadata": {
        "id": "mSwEt_VdJXXg"
      }
    },
    {
      "cell_type": "code",
      "source": [
        "number1 = float(input(\"Enter first number:\"))\n",
        "number2 = float(input(\"Enter second number:\"))\n",
        "number3 = float(input(\"Enter third number:\"))\n",
        "\n",
        "if (number1 >= number2) and (number1 >= number3):\n",
        "    largest_number = number1\n",
        "elif (number2 >= number1) and (number2>=number3):\n",
        "    largest_number = number2\n",
        "else:\n",
        "    largest_number = number3\n",
        "\n",
        "print(f\"The largest number is {largest_number}\")"
      ],
      "metadata": {
        "colab": {
          "base_uri": "https://localhost:8080/"
        },
        "id": "RHeY7-J7JWBH",
        "outputId": "ba848a8b-c508-4cce-da85-fbf25dd578bd"
      },
      "execution_count": null,
      "outputs": [
        {
          "output_type": "stream",
          "name": "stdout",
          "text": [
            "Enter first number:1\n",
            "Enter second number:4\n",
            "Enter third number:5\n",
            "The largest number is 5.0\n"
          ]
        }
      ]
    },
    {
      "cell_type": "markdown",
      "source": [
        "**Write a Python program to calculate the factorial of a number.**"
      ],
      "metadata": {
        "id": "jjKPQjZSLq7F"
      }
    },
    {
      "cell_type": "code",
      "source": [
        "def factorial(n):\n",
        "    if n==0:\n",
        "        return 1\n",
        "    else:\n",
        "        return n* factorial(n-1)\n",
        "num=int(input(\"enter a number: \"))\n",
        "print(f\"the factorial of {num} is {factorial(num)}\")"
      ],
      "metadata": {
        "colab": {
          "base_uri": "https://localhost:8080/"
        },
        "id": "nScxDL2JLtPG",
        "outputId": "a4752cfa-e3af-404b-a1cd-4fcf1bc5fe28"
      },
      "execution_count": null,
      "outputs": [
        {
          "output_type": "stream",
          "name": "stdout",
          "text": [
            "enter a number: 7\n",
            "the factorial of 7 is 5040\n"
          ]
        }
      ]
    },
    {
      "cell_type": "markdown",
      "source": [
        "**Write a Python program to swap the values of two variables.bold text**"
      ],
      "metadata": {
        "id": "X9AiBpFjNW4h"
      }
    },
    {
      "cell_type": "code",
      "source": [
        "a = 3\n",
        "b = 6\n",
        "print(f\"before swapping: a = {a}, b = {b}\")\n",
        "\n",
        "a,b = b,a\n",
        "print(f\"After swapping : a = {a} , b = {b}\")"
      ],
      "metadata": {
        "colab": {
          "base_uri": "https://localhost:8080/"
        },
        "id": "bG4fOTE_Nbk8",
        "outputId": "736d17ac-f097-4af2-917c-7d4ec3ec5fb1"
      },
      "execution_count": null,
      "outputs": [
        {
          "output_type": "stream",
          "name": "stdout",
          "text": [
            "before swapping: a = 3, b = 6\n",
            "After swapping : a = 6 , b = 3\n"
          ]
        }
      ]
    },
    {
      "cell_type": "markdown",
      "source": [
        "**Write a Python program to convert Celsius to Fahrenheit**"
      ],
      "metadata": {
        "id": "KAWBzI4HON1K"
      }
    },
    {
      "cell_type": "code",
      "source": [
        "Celsius = float(input(\"Enter temperature in Celsius:\"))\n",
        "fahrenheit = (Celsius * 9/5) +32\n",
        "print(f\"{Celsius} Celsius is equal to {fahrenheit}F\")"
      ],
      "metadata": {
        "colab": {
          "base_uri": "https://localhost:8080/"
        },
        "id": "-qVxZsaIOCo0",
        "outputId": "859c53fa-b9a3-4f66-9261-54cc501311d6"
      },
      "execution_count": null,
      "outputs": [
        {
          "output_type": "stream",
          "name": "stdout",
          "text": [
            "Enter temperature in Celsius:43\n",
            "43.0 Celsius is equal to 109.4F\n"
          ]
        }
      ]
    },
    {
      "cell_type": "markdown",
      "source": [
        "**Write a Python program to check if a number is even or odd.**"
      ],
      "metadata": {
        "id": "ztSj5sZOWWIa"
      }
    },
    {
      "cell_type": "code",
      "source": [
        "num = int(input(\"Enter a number:\"))\n",
        "if num % 2 ==0:\n",
        "  print(f\"{num} is even.\")\n",
        "else:\n",
        "  print(f\"{num} is odd.\")"
      ],
      "metadata": {
        "colab": {
          "base_uri": "https://localhost:8080/"
        },
        "id": "JJ4qUrqCQ1sY",
        "outputId": "8ed1df59-6fae-45d5-82d8-b74545fdeee8"
      },
      "execution_count": null,
      "outputs": [
        {
          "output_type": "stream",
          "name": "stdout",
          "text": [
            "Enter a number:56\n",
            "56 is even.\n"
          ]
        }
      ]
    },
    {
      "cell_type": "markdown",
      "source": [
        "**Write a Python program to find the sum of the first n natural numbers.**"
      ],
      "metadata": {
        "id": "CAI3c_tTXEAK"
      }
    },
    {
      "cell_type": "code",
      "source": [
        "n =  int(input(\"Enter a number:\"))\n",
        "sum_n = (n*(n+1))//2\n",
        "print(f\"The sum of first {n} natural numbers is {sum_n}\")"
      ],
      "metadata": {
        "colab": {
          "base_uri": "https://localhost:8080/"
        },
        "id": "yxjR0HQTW6Uy",
        "outputId": "860f0160-8897-4a6a-d910-d9bc4c2fa738"
      },
      "execution_count": null,
      "outputs": [
        {
          "output_type": "stream",
          "name": "stdout",
          "text": [
            "Enter a number:10\n",
            "The sum of first 10 natural numbers is 55\n"
          ]
        }
      ]
    },
    {
      "cell_type": "markdown",
      "source": [
        "**Write a Python program to check if a year is a leap year.**"
      ],
      "metadata": {
        "id": "Ar4DZVwzYxPG"
      }
    },
    {
      "cell_type": "code",
      "source": [
        "year = int(input(\"Enter a year: \"))\n",
        "if (year % 4 == 0 and year % 100 != 0 ) or (year % 400 ==0):\n",
        "  print(f\"{year} is a leap year.\")\n",
        "else:\n",
        "  print(f\"{year} is not a leap year.\")"
      ],
      "metadata": {
        "colab": {
          "base_uri": "https://localhost:8080/"
        },
        "id": "7bYtgyfoYz6x",
        "outputId": "50f41926-f79f-4ae6-9044-ec51ead68604"
      },
      "execution_count": null,
      "outputs": [
        {
          "output_type": "stream",
          "name": "stdout",
          "text": [
            "Enter a year: 2022\n",
            "2022 is not a leap year.\n"
          ]
        }
      ]
    },
    {
      "cell_type": "markdown",
      "source": [
        "**Write a Python program to check if a string is a palindrome.**"
      ],
      "metadata": {
        "id": "slrg6xXVa2nC"
      }
    },
    {
      "cell_type": "code",
      "source": [
        "string = input(\"Enter a string: \")\n",
        "if string == string[::-1]:\n",
        "  print(f\"{string} is a palindrome. \")\n",
        "else:\n",
        "  print(f\"{string} is not a palindrome\")"
      ],
      "metadata": {
        "colab": {
          "base_uri": "https://localhost:8080/"
        },
        "id": "8QCU7Ag8a5qM",
        "outputId": "9a14c161-f9fd-4b2d-e68b-82c917fa778e"
      },
      "execution_count": null,
      "outputs": [
        {
          "output_type": "stream",
          "name": "stdout",
          "text": [
            "Enter a string: asdfdsa\n",
            "asdfdsa is a palindrome. \n"
          ]
        }
      ]
    },
    {
      "cell_type": "markdown",
      "source": [
        "**Write a Python program to sort a list of numbers in ascending order.**"
      ],
      "metadata": {
        "id": "B-SMXBH7eHPZ"
      }
    },
    {
      "cell_type": "code",
      "source": [
        "number = [int(x) for x in input(\"Enter numbers separated by space: \").split()]\n",
        "number.sort()\n",
        "print(f\"Sorted list :{number}\")"
      ],
      "metadata": {
        "colab": {
          "base_uri": "https://localhost:8080/"
        },
        "id": "-ogoMCv_ebks",
        "outputId": "23430536-cc2e-43e6-ec59-75578083cef1"
      },
      "execution_count": null,
      "outputs": [
        {
          "output_type": "stream",
          "name": "stdout",
          "text": [
            "Enter numbers separated by space: 5 7 9 6 58 0 88 54 \n",
            "Sorted list :[0, 5, 6, 7, 9, 54, 58, 88]\n"
          ]
        }
      ]
    },
    {
      "cell_type": "code",
      "source": [],
      "metadata": {
        "id": "9z15nWtOdqZm"
      },
      "execution_count": null,
      "outputs": []
    }
  ]
}